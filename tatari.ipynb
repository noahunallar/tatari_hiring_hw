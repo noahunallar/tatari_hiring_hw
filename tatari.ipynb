{
  "nbformat": 4,
  "nbformat_minor": 0,
  "metadata": {
    "colab": {
      "name": "Untitled1.ipynb",
      "version": "0.3.2",
      "provenance": [],
      "collapsed_sections": []
    },
    "kernelspec": {
      "name": "python3",
      "display_name": "Python 3"
    }
  },
  "cells": [
    {
      "metadata": {
        "id": "mZATAq1h0jwk",
        "colab_type": "code",
        "colab": {}
      },
      "cell_type": "code",
      "source": [
        "import pandas as pd\n",
        "import numpy as np\n",
        "\n",
        "rotations = pd.read_csv(\"rotations.csv\")\n",
        "rotations = pd.DataFrame(rotations)\n",
        "\n",
        "spots = pd.read_csv(\"spots.csv\")\n",
        "spots = pd.DataFrame(spots)"
      ],
      "execution_count": 0,
      "outputs": []
    },
    {
      "metadata": {
        "id": "X1R8NqjEMHNe",
        "colab_type": "code",
        "colab": {
          "base_uri": "https://localhost:8080/",
          "height": 142
        },
        "outputId": "714650e6-bd0b-4ff7-fc3c-8337581fb7ee"
      },
      "cell_type": "code",
      "source": [
        "rotations.head()"
      ],
      "execution_count": 122,
      "outputs": [
        {
          "output_type": "execute_result",
          "data": {
            "text/html": [
              "<div>\n",
              "<style scoped>\n",
              "    .dataframe tbody tr th:only-of-type {\n",
              "        vertical-align: middle;\n",
              "    }\n",
              "\n",
              "    .dataframe tbody tr th {\n",
              "        vertical-align: top;\n",
              "    }\n",
              "\n",
              "    .dataframe thead th {\n",
              "        text-align: right;\n",
              "    }\n",
              "</style>\n",
              "<table border=\"1\" class=\"dataframe\">\n",
              "  <thead>\n",
              "    <tr style=\"text-align: right;\">\n",
              "      <th></th>\n",
              "      <th>Start</th>\n",
              "      <th>End</th>\n",
              "      <th>Name</th>\n",
              "    </tr>\n",
              "  </thead>\n",
              "  <tbody>\n",
              "    <tr>\n",
              "      <th>0</th>\n",
              "      <td>6:00 AM</td>\n",
              "      <td>12:00 PM</td>\n",
              "      <td>Morning</td>\n",
              "    </tr>\n",
              "    <tr>\n",
              "      <th>1</th>\n",
              "      <td>12:00 PM</td>\n",
              "      <td>4:00 PM</td>\n",
              "      <td>Afternoon</td>\n",
              "    </tr>\n",
              "    <tr>\n",
              "      <th>2</th>\n",
              "      <td>3:00 PM</td>\n",
              "      <td>8:00 PM</td>\n",
              "      <td>Prime</td>\n",
              "    </tr>\n",
              "  </tbody>\n",
              "</table>\n",
              "</div>"
            ],
            "text/plain": [
              "      Start       End       Name\n",
              "0   6:00 AM  12:00 PM    Morning\n",
              "1  12:00 PM   4:00 PM  Afternoon\n",
              "2   3:00 PM   8:00 PM      Prime"
            ]
          },
          "metadata": {
            "tags": []
          },
          "execution_count": 122
        }
      ]
    },
    {
      "metadata": {
        "id": "aAcenTpFMO3k",
        "colab_type": "code",
        "colab": {
          "base_uri": "https://localhost:8080/",
          "height": 204
        },
        "outputId": "2dc1dbc8-e35a-4032-d053-ceec6d7146e3"
      },
      "cell_type": "code",
      "source": [
        "spots.head()"
      ],
      "execution_count": 123,
      "outputs": [
        {
          "output_type": "execute_result",
          "data": {
            "text/html": [
              "<div>\n",
              "<style scoped>\n",
              "    .dataframe tbody tr th:only-of-type {\n",
              "        vertical-align: middle;\n",
              "    }\n",
              "\n",
              "    .dataframe tbody tr th {\n",
              "        vertical-align: top;\n",
              "    }\n",
              "\n",
              "    .dataframe thead th {\n",
              "        text-align: right;\n",
              "    }\n",
              "</style>\n",
              "<table border=\"1\" class=\"dataframe\">\n",
              "  <thead>\n",
              "    <tr style=\"text-align: right;\">\n",
              "      <th></th>\n",
              "      <th>Date</th>\n",
              "      <th>Time</th>\n",
              "      <th>Creative</th>\n",
              "      <th>Spend</th>\n",
              "      <th>Views</th>\n",
              "    </tr>\n",
              "  </thead>\n",
              "  <tbody>\n",
              "    <tr>\n",
              "      <th>0</th>\n",
              "      <td>01/02/2016</td>\n",
              "      <td>8:30 AM</td>\n",
              "      <td>TEST001H</td>\n",
              "      <td>120.5</td>\n",
              "      <td>100</td>\n",
              "    </tr>\n",
              "    <tr>\n",
              "      <th>1</th>\n",
              "      <td>01/02/2016</td>\n",
              "      <td>11:30 AM</td>\n",
              "      <td>TEST001H</td>\n",
              "      <td>240.5</td>\n",
              "      <td>110</td>\n",
              "    </tr>\n",
              "    <tr>\n",
              "      <th>2</th>\n",
              "      <td>01/02/2016</td>\n",
              "      <td>3:30 PM</td>\n",
              "      <td>TEST002H</td>\n",
              "      <td>500.0</td>\n",
              "      <td>80</td>\n",
              "    </tr>\n",
              "    <tr>\n",
              "      <th>3</th>\n",
              "      <td>01/02/2016</td>\n",
              "      <td>3:34 PM</td>\n",
              "      <td>TEST002H</td>\n",
              "      <td>400.0</td>\n",
              "      <td>90</td>\n",
              "    </tr>\n",
              "    <tr>\n",
              "      <th>4</th>\n",
              "      <td>01/02/2016</td>\n",
              "      <td>3:40 PM</td>\n",
              "      <td>TEST001H</td>\n",
              "      <td>400.0</td>\n",
              "      <td>110</td>\n",
              "    </tr>\n",
              "  </tbody>\n",
              "</table>\n",
              "</div>"
            ],
            "text/plain": [
              "         Date      Time  Creative  Spend  Views\n",
              "0  01/02/2016   8:30 AM  TEST001H  120.5    100\n",
              "1  01/02/2016  11:30 AM  TEST001H  240.5    110\n",
              "2  01/02/2016   3:30 PM  TEST002H  500.0     80\n",
              "3  01/02/2016   3:34 PM  TEST002H  400.0     90\n",
              "4  01/02/2016   3:40 PM  TEST001H  400.0    110"
            ]
          },
          "metadata": {
            "tags": []
          },
          "execution_count": 123
        }
      ]
    },
    {
      "metadata": {
        "id": "JhWnj4fa1Ae1",
        "colab_type": "code",
        "outputId": "17387a2c-8249-46fc-cc35-0b4ea488b439",
        "colab": {
          "base_uri": "https://localhost:8080/",
          "height": 142
        }
      },
      "cell_type": "code",
      "source": [
        "# Convert am/pm to 24-hour format\n",
        "rotations[\"Start\"] = pd.to_datetime(rotations.Start).dt.strftime(\"%H:%M:%S\").str.split(\":\")\n",
        "rotations[\"End\"] = pd.to_datetime(rotations.End).dt.strftime(\"%H:%M:%S\").str.split(\":\")\n",
        "\n",
        "# Convert hours to minutes\n",
        "rotations[\"Start_in_Minutes\"] = rotations.Start.apply(lambda x: int(x[0]) * 60 + int(x[1]))\n",
        "rotations[\"End_in_Minutes\"] = rotations.End.apply(lambda x: int(x[0]) * 60 + int(x[1]))\n",
        "rotations = rotations.drop(columns=[\"Start\", \"End\"])\n",
        "\n",
        "rotations.head()\n"
      ],
      "execution_count": 124,
      "outputs": [
        {
          "output_type": "execute_result",
          "data": {
            "text/html": [
              "<div>\n",
              "<style scoped>\n",
              "    .dataframe tbody tr th:only-of-type {\n",
              "        vertical-align: middle;\n",
              "    }\n",
              "\n",
              "    .dataframe tbody tr th {\n",
              "        vertical-align: top;\n",
              "    }\n",
              "\n",
              "    .dataframe thead th {\n",
              "        text-align: right;\n",
              "    }\n",
              "</style>\n",
              "<table border=\"1\" class=\"dataframe\">\n",
              "  <thead>\n",
              "    <tr style=\"text-align: right;\">\n",
              "      <th></th>\n",
              "      <th>Name</th>\n",
              "      <th>Start_in_Minutes</th>\n",
              "      <th>End_in_Minutes</th>\n",
              "    </tr>\n",
              "  </thead>\n",
              "  <tbody>\n",
              "    <tr>\n",
              "      <th>0</th>\n",
              "      <td>Morning</td>\n",
              "      <td>360</td>\n",
              "      <td>720</td>\n",
              "    </tr>\n",
              "    <tr>\n",
              "      <th>1</th>\n",
              "      <td>Afternoon</td>\n",
              "      <td>720</td>\n",
              "      <td>960</td>\n",
              "    </tr>\n",
              "    <tr>\n",
              "      <th>2</th>\n",
              "      <td>Prime</td>\n",
              "      <td>900</td>\n",
              "      <td>1200</td>\n",
              "    </tr>\n",
              "  </tbody>\n",
              "</table>\n",
              "</div>"
            ],
            "text/plain": [
              "        Name  Start_in_Minutes  End_in_Minutes\n",
              "0    Morning               360             720\n",
              "1  Afternoon               720             960\n",
              "2      Prime               900            1200"
            ]
          },
          "metadata": {
            "tags": []
          },
          "execution_count": 124
        }
      ]
    },
    {
      "metadata": {
        "id": "w7_xjbhuNZAv",
        "colab_type": "code",
        "colab": {
          "base_uri": "https://localhost:8080/",
          "height": 142
        },
        "outputId": "6b35f8ca-b14d-439d-c379-ee531cae16bf"
      },
      "cell_type": "code",
      "source": [
        "##### Assumption #1 #####\n",
        "# Among a given set of rotation time ranges, it is clear that \"Afternoon\" and \"Prime\" rotations overlap. \n",
        "# To circumvent this, \"Prime\" rotation has been prioritized and \"Afternoon\" rotation's \"End_in_Minutes\" has been updated with \"Prime\" rotation's \"Start_in_Minutes\"\n",
        "rotations[\"End_in_Minutes\"] = np.where(rotations.End_in_Minutes > rotations.Start_in_Minutes.shift(-1),rotations.Start_in_Minutes.shift(-1),rotations.End_in_Minutes).astype(\"int64\")\n",
        "\n",
        "rotations.head()\n"
      ],
      "execution_count": 125,
      "outputs": [
        {
          "output_type": "execute_result",
          "data": {
            "text/html": [
              "<div>\n",
              "<style scoped>\n",
              "    .dataframe tbody tr th:only-of-type {\n",
              "        vertical-align: middle;\n",
              "    }\n",
              "\n",
              "    .dataframe tbody tr th {\n",
              "        vertical-align: top;\n",
              "    }\n",
              "\n",
              "    .dataframe thead th {\n",
              "        text-align: right;\n",
              "    }\n",
              "</style>\n",
              "<table border=\"1\" class=\"dataframe\">\n",
              "  <thead>\n",
              "    <tr style=\"text-align: right;\">\n",
              "      <th></th>\n",
              "      <th>Name</th>\n",
              "      <th>Start_in_Minutes</th>\n",
              "      <th>End_in_Minutes</th>\n",
              "    </tr>\n",
              "  </thead>\n",
              "  <tbody>\n",
              "    <tr>\n",
              "      <th>0</th>\n",
              "      <td>Morning</td>\n",
              "      <td>360</td>\n",
              "      <td>720</td>\n",
              "    </tr>\n",
              "    <tr>\n",
              "      <th>1</th>\n",
              "      <td>Afternoon</td>\n",
              "      <td>720</td>\n",
              "      <td>900</td>\n",
              "    </tr>\n",
              "    <tr>\n",
              "      <th>2</th>\n",
              "      <td>Prime</td>\n",
              "      <td>900</td>\n",
              "      <td>1200</td>\n",
              "    </tr>\n",
              "  </tbody>\n",
              "</table>\n",
              "</div>"
            ],
            "text/plain": [
              "        Name  Start_in_Minutes  End_in_Minutes\n",
              "0    Morning               360             720\n",
              "1  Afternoon               720             900\n",
              "2      Prime               900            1200"
            ]
          },
          "metadata": {
            "tags": []
          },
          "execution_count": 125
        }
      ]
    },
    {
      "metadata": {
        "id": "V1EeyBSF02fP",
        "colab_type": "code",
        "outputId": "67feb73f-bff7-4ac5-ad40-1be7edd0b8c0",
        "colab": {
          "base_uri": "https://localhost:8080/",
          "height": 204
        }
      },
      "cell_type": "code",
      "source": [
        "# Convert am/pm to 24-hour format\n",
        "spots[\"Time\"] = pd.to_datetime(spots.Time).dt.strftime(\"%H:%M:%S\").str.split(\":\")\n",
        "# Date reformatting\n",
        "spots[\"Date\"] = pd.to_datetime(spots.Date)\n",
        "# Convert hours to minutes\n",
        "spots[\"Time_in_Minutes\"] = spots.Time.apply(lambda x: int(x[0]) * 60 + int(x[1]))\n",
        "# Create \"Weekday\" column \n",
        "spots[\"Weekday\"] = spots.Date.dt.weekday_name\n",
        "spots = spots.drop(columns=[\"Time\", \"Date\"])\n",
        "# Calculate CPV\n",
        "spots[\"CPV\"] = spots.apply(lambda row: row.Spend / row.Views,axis=1)\n",
        "\n",
        "spots.head()"
      ],
      "execution_count": 126,
      "outputs": [
        {
          "output_type": "execute_result",
          "data": {
            "text/html": [
              "<div>\n",
              "<style scoped>\n",
              "    .dataframe tbody tr th:only-of-type {\n",
              "        vertical-align: middle;\n",
              "    }\n",
              "\n",
              "    .dataframe tbody tr th {\n",
              "        vertical-align: top;\n",
              "    }\n",
              "\n",
              "    .dataframe thead th {\n",
              "        text-align: right;\n",
              "    }\n",
              "</style>\n",
              "<table border=\"1\" class=\"dataframe\">\n",
              "  <thead>\n",
              "    <tr style=\"text-align: right;\">\n",
              "      <th></th>\n",
              "      <th>Creative</th>\n",
              "      <th>Spend</th>\n",
              "      <th>Views</th>\n",
              "      <th>Time_in_Minutes</th>\n",
              "      <th>Weekday</th>\n",
              "      <th>CPV</th>\n",
              "    </tr>\n",
              "  </thead>\n",
              "  <tbody>\n",
              "    <tr>\n",
              "      <th>0</th>\n",
              "      <td>TEST001H</td>\n",
              "      <td>120.5</td>\n",
              "      <td>100</td>\n",
              "      <td>510</td>\n",
              "      <td>Saturday</td>\n",
              "      <td>1.205000</td>\n",
              "    </tr>\n",
              "    <tr>\n",
              "      <th>1</th>\n",
              "      <td>TEST001H</td>\n",
              "      <td>240.5</td>\n",
              "      <td>110</td>\n",
              "      <td>690</td>\n",
              "      <td>Saturday</td>\n",
              "      <td>2.186364</td>\n",
              "    </tr>\n",
              "    <tr>\n",
              "      <th>2</th>\n",
              "      <td>TEST002H</td>\n",
              "      <td>500.0</td>\n",
              "      <td>80</td>\n",
              "      <td>930</td>\n",
              "      <td>Saturday</td>\n",
              "      <td>6.250000</td>\n",
              "    </tr>\n",
              "    <tr>\n",
              "      <th>3</th>\n",
              "      <td>TEST002H</td>\n",
              "      <td>400.0</td>\n",
              "      <td>90</td>\n",
              "      <td>934</td>\n",
              "      <td>Saturday</td>\n",
              "      <td>4.444444</td>\n",
              "    </tr>\n",
              "    <tr>\n",
              "      <th>4</th>\n",
              "      <td>TEST001H</td>\n",
              "      <td>400.0</td>\n",
              "      <td>110</td>\n",
              "      <td>940</td>\n",
              "      <td>Saturday</td>\n",
              "      <td>3.636364</td>\n",
              "    </tr>\n",
              "  </tbody>\n",
              "</table>\n",
              "</div>"
            ],
            "text/plain": [
              "   Creative  Spend  Views  Time_in_Minutes   Weekday       CPV\n",
              "0  TEST001H  120.5    100              510  Saturday  1.205000\n",
              "1  TEST001H  240.5    110              690  Saturday  2.186364\n",
              "2  TEST002H  500.0     80              930  Saturday  6.250000\n",
              "3  TEST002H  400.0     90              934  Saturday  4.444444\n",
              "4  TEST001H  400.0    110              940  Saturday  3.636364"
            ]
          },
          "metadata": {
            "tags": []
          },
          "execution_count": 126
        }
      ]
    },
    {
      "metadata": {
        "id": "BkD4sQPsQwbi",
        "colab_type": "code",
        "colab": {
          "base_uri": "https://localhost:8080/",
          "height": 289
        },
        "outputId": "fa42d185-5ec1-4dfa-d5f1-12f56a82e0c6"
      },
      "cell_type": "code",
      "source": [
        "# A method to determine what rotation does given time_in_minutes represent\n",
        "def find_rotation_interval(time_in_minutes):\n",
        "  return next(rotation for rotation in np.where(np.logical_and(rotations.Start_in_Minutes <= time_in_minutes,\\\n",
        "                                                               rotations.End_in_Minutes >= time_in_minutes),rotations.Name, \"\") if rotation)\n",
        "    \n",
        "# Create a new column \"Rotation\" and populate with corresponding rotation names\n",
        "spots[\"Rotation\"] = spots.apply(lambda row: find_rotation_interval(row.Time_in_Minutes), axis=1)\n",
        "\n",
        "cpv_by_creative = spots.CPV.groupby(spots.Creative).mean()\n",
        "print(\"#### CPV by creative ####\")\n",
        "print(\"\")\n",
        "print(cpv_by_creative)\n",
        "print(\"\")\n",
        "print(\"\")\n",
        "print(\"#### CPV by rotation by day ####\")\n",
        "print(\"\")\n",
        "cpv_by_rotation_by_day = spots.groupby([\"Weekday\", \"Rotation\"]).CPV.mean()\n",
        "print(cpv_by_rotation_by_day)\n",
        "\n"
      ],
      "execution_count": 135,
      "outputs": [
        {
          "output_type": "stream",
          "text": [
            "#### CPV by creative ####\n",
            "\n",
            "Creative\n",
            "TEST001H    2.631932\n",
            "TEST002H    4.342593\n",
            "Name: CPV, dtype: float64\n",
            "\n",
            "\n",
            "#### CPV by rotation by day ####\n",
            "\n",
            "Weekday   Rotation\n",
            "Saturday  Morning     1.695682\n",
            "          Prime       4.776936\n",
            "Tuesday   Morning     3.500000\n",
            "          Prime       2.333333\n",
            "Name: CPV, dtype: float64\n"
          ],
          "name": "stdout"
        }
      ]
    }
  ]
}